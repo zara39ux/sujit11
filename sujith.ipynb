{
  "nbformat": 4,
  "nbformat_minor": 0,
  "metadata": {
    "colab": {
      "provenance": []
    },
    "kernelspec": {
      "name": "python3",
      "display_name": "Python 3"
    },
    "language_info": {
      "name": "python"
    }
  },
  "cells": [
    {
      "cell_type": "code",
      "execution_count": null,
      "metadata": {
        "colab": {
          "base_uri": "https://localhost:8080/"
        },
        "id": "sZO8QyuRc0lD",
        "outputId": "df80300a-e159-4316-f354-6485e2203435"
      },
      "outputs": [
        {
          "output_type": "stream",
          "name": "stdout",
          "text": [
            "True\n",
            "False\n"
          ]
        }
      ],
      "source": [
        "import pandas as pd\n",
        "def is_palindrome(s: str) -> bool:\n",
        "    normalized_str = ''.join(s.lower().split())\n",
        "\n",
        "    return normalized_str == normalized_str[::-1]\n",
        "print(is_palindrome(\"A man a plan a canal Panama\"))\n",
        "print(is_palindrome(\"Hello, World!\"))\n",
        "\n",
        "\n",
        "\n",
        "\n",
        "\n",
        "\n"
      ]
    },
    {
      "cell_type": "code",
      "source": [
        "def evaluate_expression(expression: str) -> float:\n",
        "    try:\n",
        "        # Evaluate the expression\n",
        "        result = eval(expression)\n",
        "        return result\n",
        "    except Exception as e:\n",
        "        return f\"Error: {e}\"\n",
        "\n",
        "print(evaluate_expression(\"2 + 3 * 4\"))\n",
        "print(evaluate_expression(\"10 / 2 - 1\"))\n",
        "print(evaluate_expression(\"5 * (2 + 3)\"))\n",
        "print(evaluate_expression(\"2 + (3 * 4)\"))\n",
        "\n",
        "\n"
      ],
      "metadata": {
        "colab": {
          "base_uri": "https://localhost:8080/"
        },
        "id": "4kJj-X32evVL",
        "outputId": "e78385df-1312-4185-c542-e29882b23dc6"
      },
      "execution_count": null,
      "outputs": [
        {
          "output_type": "stream",
          "name": "stdout",
          "text": [
            "14\n",
            "4.0\n",
            "25\n",
            "14\n"
          ]
        }
      ]
    },
    {
      "cell_type": "code",
      "source": [],
      "metadata": {
        "id": "1udkLpt82Hk1"
      },
      "execution_count": null,
      "outputs": []
    },
    {
      "cell_type": "code",
      "source": [],
      "metadata": {
        "id": "P3pt_wWZfYD7"
      },
      "execution_count": null,
      "outputs": []
    }
  ]
}